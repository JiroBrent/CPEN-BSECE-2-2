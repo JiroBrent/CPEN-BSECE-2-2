{
  "nbformat": 4,
  "nbformat_minor": 0,
  "metadata": {
    "colab": {
      "name": "Introduction to Python Programming.ipynb",
      "provenance": [],
      "authorship_tag": "ABX9TyMwMiC7cNVuFz8uWcDQAlu9",
      "include_colab_link": true
    },
    "kernelspec": {
      "name": "python3",
      "display_name": "Python 3"
    },
    "language_info": {
      "name": "python"
    }
  },
  "cells": [
    {
      "cell_type": "markdown",
      "metadata": {
        "id": "view-in-github",
        "colab_type": "text"
      },
      "source": [
        "<a href=\"https://colab.research.google.com/github/JiroBrent/CPEN-BSECE-2-2/blob/main/Introduction_to_Python_Programming.ipynb\" target=\"_parent\"><img src=\"https://colab.research.google.com/assets/colab-badge.svg\" alt=\"Open In Colab\"/></a>"
      ]
    },
    {
      "cell_type": "code",
      "metadata": {
        "colab": {
          "base_uri": "https://localhost:8080/"
        },
        "id": "xJ96OUuc1jW6",
        "outputId": "8ffbe780-b8f6-436d-aa1b-d8d335b056cd"
      },
      "source": [
        "print (\"Hello, World. Hello, Philippines.\")"
      ],
      "execution_count": 34,
      "outputs": [
        {
          "output_type": "stream",
          "name": "stdout",
          "text": [
            "Hello, World. Hello, Philippines.\n"
          ]
        }
      ]
    },
    {
      "cell_type": "code",
      "metadata": {
        "colab": {
          "base_uri": "https://localhost:8080/"
        },
        "id": "B3SjQvZxhu2k",
        "outputId": "b51d3554-4346-4964-c7b9-b5ae84e6befd"
      },
      "source": [
        "print (\"Welcome to Python Programming\")"
      ],
      "execution_count": 12,
      "outputs": [
        {
          "output_type": "stream",
          "name": "stdout",
          "text": [
            "Welcome to Python Programming\n"
          ]
        }
      ]
    },
    {
      "cell_type": "code",
      "metadata": {
        "colab": {
          "base_uri": "https://localhost:8080/"
        },
        "id": "ofO7HAUjy8nK",
        "outputId": "7895dfe1-cb18-4f36-c652-a27d5d2578a6"
      },
      "source": [
        "b= 'Sally'\n",
        "print (b)"
      ],
      "execution_count": 15,
      "outputs": [
        {
          "output_type": "stream",
          "name": "stdout",
          "text": [
            "Sally\n"
          ]
        }
      ]
    },
    {
      "cell_type": "code",
      "metadata": {
        "colab": {
          "base_uri": "https://localhost:8080/"
        },
        "id": "VIwk9642zGg4",
        "outputId": "afc402dc-72e2-46ef-f0d1-92194c13caeb"
      },
      "source": [
        "b=int(4)\n",
        "print (b)"
      ],
      "execution_count": 16,
      "outputs": [
        {
          "output_type": "stream",
          "name": "stdout",
          "text": [
            "4\n"
          ]
        }
      ]
    },
    {
      "cell_type": "code",
      "metadata": {
        "colab": {
          "base_uri": "https://localhost:8080/"
        },
        "id": "0l-6eFIDzL2R",
        "outputId": "b3407222-d28e-4897-8e1a-a587f124a7b0"
      },
      "source": [
        "x=5\n",
        "y=(\"John\")\n",
        "print(type(y))"
      ],
      "execution_count": 19,
      "outputs": [
        {
          "output_type": "stream",
          "name": "stdout",
          "text": [
            "<class 'str'>\n"
          ]
        }
      ]
    },
    {
      "cell_type": "code",
      "metadata": {
        "colab": {
          "base_uri": "https://localhost:8080/"
        },
        "id": "DE6mH_fdzja7",
        "outputId": "480c623e-d723-46e1-8aa9-8a2f39cf7cf4"
      },
      "source": [
        "a=4\n",
        "A=\"Sally\"\n",
        "#A will not overwrite a\n",
        "print (A)"
      ],
      "execution_count": 20,
      "outputs": [
        {
          "output_type": "stream",
          "name": "stdout",
          "text": [
            "Sally\n"
          ]
        }
      ]
    },
    {
      "cell_type": "code",
      "metadata": {
        "colab": {
          "base_uri": "https://localhost:8080/"
        },
        "id": "_eA04kU7zk8C",
        "outputId": "5e99aabc-c371-4491-9a6e-a818ac549ad8"
      },
      "source": [
        "x,y,z=\"one\",\"two\",\"three\"\n",
        "print (z)\n",
        "print (y)\n",
        "print (x)"
      ],
      "execution_count": 21,
      "outputs": [
        {
          "output_type": "stream",
          "name": "stdout",
          "text": [
            "three\n",
            "two\n",
            "one\n"
          ]
        }
      ]
    },
    {
      "cell_type": "code",
      "metadata": {
        "colab": {
          "base_uri": "https://localhost:8080/"
        },
        "id": "9NfhUP8iz_tJ",
        "outputId": "057530d8-f44e-4d95-ecae-e721b2048dda"
      },
      "source": [
        "x=y=z=\"Four\"\n",
        "print (z)\n",
        "print (y)\n",
        "print (x)"
      ],
      "execution_count": 22,
      "outputs": [
        {
          "output_type": "stream",
          "name": "stdout",
          "text": [
            "Four\n",
            "Four\n",
            "Four\n"
          ]
        }
      ]
    },
    {
      "cell_type": "code",
      "metadata": {
        "colab": {
          "base_uri": "https://localhost:8080/"
        },
        "id": "bt02YstOoCza",
        "outputId": "1c7cd3b9-1dd7-4991-f504-d89f61f1fe16"
      },
      "source": [
        "x = 'enjoying'\n",
        "print(\"Python programming is \" + (x))"
      ],
      "execution_count": 6,
      "outputs": [
        {
          "output_type": "stream",
          "name": "stdout",
          "text": [
            "Python programming is enjoying\n"
          ]
        }
      ]
    },
    {
      "cell_type": "code",
      "metadata": {
        "colab": {
          "base_uri": "https://localhost:8080/"
        },
        "id": "HjJM4ANC0ACy",
        "outputId": "16e465bf-4eb0-4ae3-fe02-f1bb9136d345"
      },
      "source": [
        "x = \"Python programming is \"\n",
        "y=\"enjoying\"\n",
        "print (x+y)"
      ],
      "execution_count": 24,
      "outputs": [
        {
          "output_type": "stream",
          "name": "stdout",
          "text": [
            "Python programming is enjoying\n"
          ]
        }
      ]
    },
    {
      "cell_type": "code",
      "metadata": {
        "colab": {
          "base_uri": "https://localhost:8080/"
        },
        "id": "301wpAtt0AKE",
        "outputId": "f9b76502-f53b-43dc-971f-36cfc5f07057"
      },
      "source": [
        "x=5\n",
        "y=3\n",
        "sum=x+y\n",
        "print (sum)"
      ],
      "execution_count": 25,
      "outputs": [
        {
          "output_type": "stream",
          "name": "stdout",
          "text": [
            "8\n"
          ]
        }
      ]
    },
    {
      "cell_type": "code",
      "metadata": {
        "colab": {
          "base_uri": "https://localhost:8080/"
        },
        "id": "-k1tELpmpTXI",
        "outputId": "416ec746-66eb-43ca-dc7c-5b7055c5a079"
      },
      "source": [
        "a, b, c = 0, -1, 6\n",
        "c%=3\n",
        "c"
      ],
      "execution_count": 11,
      "outputs": [
        {
          "output_type": "execute_result",
          "data": {
            "text/plain": [
              "0"
            ]
          },
          "metadata": {},
          "execution_count": 11
        }
      ]
    },
    {
      "cell_type": "code",
      "metadata": {
        "colab": {
          "base_uri": "https://localhost:8080/"
        },
        "id": "VqdkLaAH0o0D",
        "outputId": "5294dc48-aa09-4c78-cd92-16702554f944"
      },
      "source": [
        "x=5\n",
        "x<6 and x<10"
      ],
      "execution_count": 26,
      "outputs": [
        {
          "output_type": "execute_result",
          "data": {
            "text/plain": [
              "True"
            ]
          },
          "metadata": {},
          "execution_count": 26
        }
      ]
    },
    {
      "cell_type": "code",
      "metadata": {
        "colab": {
          "base_uri": "https://localhost:8080/"
        },
        "id": "HaCFpKwZ0pld",
        "outputId": "02beb618-d3bd-40d8-cfdd-8de2eea78866"
      },
      "source": [
        "y=6\n",
        "z=7\n",
        "y is not z"
      ],
      "execution_count": 27,
      "outputs": [
        {
          "output_type": "execute_result",
          "data": {
            "text/plain": [
              "True"
            ]
          },
          "metadata": {},
          "execution_count": 27
        }
      ]
    },
    {
      "cell_type": "code",
      "metadata": {
        "colab": {
          "base_uri": "https://localhost:8080/",
          "height": 197
        },
        "id": "z0nuNu031CNb",
        "outputId": "e0b76873-4d9b-412b-bd31-021bbf65d0a7"
      },
      "source": [
        "x_1=python is fun\n",
        "x_2=javascript is better\n",
        "print (x+y)"
      ],
      "execution_count": 32,
      "outputs": [
        {
          "output_type": "error",
          "ename": "NameError",
          "evalue": "ignored",
          "traceback": [
            "\u001b[0;31m---------------------------------------------------------------------------\u001b[0m",
            "\u001b[0;31mNameError\u001b[0m                                 Traceback (most recent call last)",
            "\u001b[0;32m<ipython-input-32-7fe00a6e4e70>\u001b[0m in \u001b[0;36m<module>\u001b[0;34m()\u001b[0m\n\u001b[0;32m----> 1\u001b[0;31m \u001b[0mx_1\u001b[0m\u001b[0;34m=\u001b[0m\u001b[0mpython\u001b[0m \u001b[0;32mis\u001b[0m \u001b[0mfun\u001b[0m\u001b[0;34m\u001b[0m\u001b[0;34m\u001b[0m\u001b[0m\n\u001b[0m\u001b[1;32m      2\u001b[0m \u001b[0mx_2\u001b[0m\u001b[0;34m=\u001b[0m\u001b[0mjavascript\u001b[0m \u001b[0;32mis\u001b[0m \u001b[0mbetter\u001b[0m\u001b[0;34m\u001b[0m\u001b[0;34m\u001b[0m\u001b[0m\n\u001b[1;32m      3\u001b[0m \u001b[0mprint\u001b[0m \u001b[0;34m(\u001b[0m\u001b[0mx\u001b[0m\u001b[0;34m+\u001b[0m\u001b[0my\u001b[0m\u001b[0;34m)\u001b[0m\u001b[0;34m\u001b[0m\u001b[0;34m\u001b[0m\u001b[0m\n",
            "\u001b[0;31mNameError\u001b[0m: name 'python' is not defined"
          ]
        }
      ]
    }
  ]
}